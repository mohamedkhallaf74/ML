{
 "cells": [
  {
   "cell_type": "markdown",
   "metadata": {},
   "source": [
    "## CNN\n",
    "### Mohamed khallaf sec(3)\n",
    "### Khaled Gamal sec(1)\n",
    "kaggle code link : :https://www.kaggle.com/code/mohamedkhallaf/intel-image-classifcation/edit"
   ]
  },
  {
   "cell_type": "code",
   "execution_count": null,
   "metadata": {},
   "outputs": [],
   "source": [
    "\n",
    "\n",
    "import numpy as np # linear algebra\n",
    "import pandas as pd # data processing, CSV file I/O (e.g. pd.read_csv)\n",
    "\n",
    "\n",
    "\n",
    "import os\n",
    "for dirname, _, filenames in os.walk('/kaggle/input'):\n",
    "    for filename in filenames:\n",
    "        print(os.path.join(dirname, filename))\n",
    "        break\n",
    "\n"
   ]
  },
  {
   "cell_type": "code",
   "execution_count": null,
   "metadata": {},
   "outputs": [],
   "source": [
    "from tensorflow import keras\n",
    "from keras.preprocessing.image import ImageDataGenerator, load_img \n",
    "# istdir() returns a list containing the names of the entries in the directory given by path.\n",
    "os.listdir('/kaggle/input/intel-image-classification/seg_train/seg_train')"
   ]
  },
  {
   "cell_type": "code",
   "execution_count": null,
   "metadata": {},
   "outputs": [],
   "source": [
    "import cv2\n",
    "import matplotlib.pyplot as plt\n",
    "\n",
    "m='/kaggle/input/intel-image-classification/seg_train/seg_train/mountain/14986.jpg'\n",
    "s='/kaggle/input/intel-image-classification/seg_train/seg_train/street/1269.jpg'\n",
    "b='/kaggle/input/intel-image-classification/seg_train/seg_train/buildings/2193.jpg'\n",
    "sea='/kaggle/input/intel-image-classification/seg_train/seg_train/sea/19812.jpg'\n",
    "f='/kaggle/input/intel-image-classification/seg_train/seg_train/forest/7981.jpg'\n",
    "g='/kaggle/input/intel-image-classification/seg_train/seg_train/glacier/12666.jpg'\n",
    "plt.figure(1, figsize = (12 , 12))\n",
    "plt.subplot(2 , 3 , 1)   # means the fig has 1 row and 2 columns and this plot is the first plot \n",
    "plt.imshow(cv2.imread(m))\n",
    "plt.title('Mountain')\n",
    "plt.xticks([]) , plt.yticks([])\n",
    "\n",
    "plt.subplot(2 , 3, 2)     # means the fig has 1 row and 2 columns and this plot is the secnd plot \n",
    "plt.imshow(cv2.imread(s))\n",
    "plt.title('Street')\n",
    "plt.xticks([]) , plt.yticks([])\n",
    "\n",
    "plt.subplot(2 , 3, 3)     # means the fig has 1 row and 2 columns and this plot is the third plot \n",
    "plt.imshow(cv2.imread(b))\n",
    "plt.title('Building')\n",
    "plt.xticks([]) , plt.yticks([])\n",
    "\n",
    "plt.subplot(2 , 3, 4)     # means the fig has 1 row and 2 columns and this plot is the third plot \n",
    "plt.imshow(cv2.imread(sea))\n",
    "plt.title('Sea')\n",
    "plt.xticks([]) , plt.yticks([])\n",
    "\n",
    "plt.subplot(2 , 3, 5)     # means the fig has 1 row and 2 columns and this plot is the third plot \n",
    "plt.imshow(cv2.imread(f))\n",
    "plt.title('Forest')\n",
    "plt.xticks([]) , plt.yticks([])\n",
    "\n",
    "plt.subplot(2 , 3, 6)     # means the fig has 1 row and 2 columns and this plot is the third plot \n",
    "plt.imshow(cv2.imread(g))\n",
    "plt.title('Glacier')\n",
    "plt.xticks([]) , plt.yticks([])\n",
    "\n",
    "plt.show()"
   ]
  },
  {
   "cell_type": "code",
   "execution_count": null,
   "metadata": {},
   "outputs": [],
   "source": [
    "load_img('/kaggle/input/intel-image-classification/seg_train/seg_train/glacier/12666.jpg',target_size=(250,250))"
   ]
  },
  {
   "cell_type": "code",
   "execution_count": null,
   "metadata": {},
   "outputs": [],
   "source": [
    "train_gen=ImageDataGenerator(rescale=1./255)#1. means float values upto 255 pixels \n",
    "train_data=train_gen.flow_from_directory('/kaggle/input/intel-image-classification/seg_train/seg_train',target_size=(64,64)\n",
    "                                         ,batch_size=32,class_mode='categorical',shuffle=True)"
   ]
  },
  {
   "cell_type": "code",
   "execution_count": null,
   "metadata": {},
   "outputs": [],
   "source": [
    "test_gen=ImageDataGenerator(rescale=1./255)\n",
    "test_data=test_gen.flow_from_directory('/kaggle/input/intel-image-classification/seg_test/seg_test',target_size=(64,64),\n",
    "                                   batch_size=1,shuffle=False)"
   ]
  },
  {
   "cell_type": "code",
   "execution_count": null,
   "metadata": {},
   "outputs": [],
   "source": [
    "#print the class according to the output value\n",
    "train_data.classes"
   ]
  },
  {
   "cell_type": "code",
   "execution_count": null,
   "metadata": {},
   "outputs": [],
   "source": [
    "#return the dictionary that contains the mapping from class names to class indices\n",
    "train_data.class_indices"
   ]
  },
  {
   "cell_type": "code",
   "execution_count": null,
   "metadata": {},
   "outputs": [],
   "source": [
    "from tensorflow.keras.models import Sequential\n",
    "from tensorflow.keras.layers import Dense,Flatten,Conv2D,MaxPooling2D\n",
    "model=Sequential()\n",
    "model.add(Conv2D(32,(3,3),model.add(Conv2D(32,(3,3),strides=2,activation='relu',padding='valid',input_shape=(64,64,3)))# 32 filter , each with size 3 in filter \n",
    "strides=2,activation='relu',padding='valid',input_shape=(64,64,3)))# 32 filter , each with size 3 in filter \n",
    "model.add(Conv2D(50,(3,3),strides=3,activation='relu',padding='same'))\n",
    "model.add(MaxPooling2D(2,2))\n",
    "model.add(Flatten())\n",
    "model.add(Dense(10,activation='sigmoid'))\n",
    "model.add(Dense(30,activation='sigmoid'))\n",
    "model.add(Dense(6,activation='softmax'))   #final layer is one node bcox the output is binary . forbinary we put node as 1 and for softmax(categorial) we use based to categorical fatures nodes \n",
    "model.summary()"
   ]
  },
  {
   "cell_type": "code",
   "execution_count": null,
   "metadata": {},
   "outputs": [],
   "source": [
    "model.compile(loss='categorical_crossentropy',optimizer='adam',metrics=['accuracy'])"
   ]
  },
  {
   "cell_type": "code",
   "execution_count": null,
   "metadata": {},
   "outputs": [],
   "source": [
    "model.fit(train_data,validation_data=test_data,epochs=2)"
   ]
  },
  {
   "cell_type": "code",
   "execution_count": null,
   "metadata": {},
   "outputs": [],
   "source": [
    "pred=model.predict(test_data).argmax(axis=1)  #argmax takes the max probaility \n",
    "pred"
   ]
  },
  {
   "cell_type": "code",
   "execution_count": null,
   "metadata": {},
   "outputs": [],
   "source": [
    "import cv2\n",
    "import numpy as np\n",
    "\n",
    "img = cv2.imread('/kaggle/input/intel-image-classification/seg_test/seg_test/forest/23407.jpg')\n",
    "img = cv2.resize(img,(64,64))\n",
    "img = img/255.0\n",
    "img = img.reshape(-1,64,64,3)\n",
    "\n",
    "np.round(model.predict(img)).argmax(axis=1)"
   ]
  },
  {
   "cell_type": "code",
   "execution_count": null,
   "metadata": {},
   "outputs": [],
   "source": [
    "load_img('/kaggle/input/intel-image-classification/seg_test/seg_test/forest/23407.jpg')"
   ]
  },
  {
   "cell_type": "code",
   "execution_count": null,
   "metadata": {},
   "outputs": [],
   "source": [
    "train_data.class_indices"
   ]
  },
  {
   "cell_type": "code",
   "execution_count": null,
   "metadata": {},
   "outputs": [],
   "source": [
    "pred=model.predict(test_data)"
   ]
  },
  {
   "cell_type": "code",
   "execution_count": null,
   "metadata": {},
   "outputs": [],
   "source": [
    "import matplotlib.pyplot as plt \n",
    "import numpy as np\n",
    "from sklearn.metrics import plot_confusion_matrix\n",
    "from sklearn.metrics import confusion_matrix\n",
    "predicted_classes=np.argmax(pred,axis=1)"
   ]
  },
  {
   "cell_type": "code",
   "execution_count": null,
   "metadata": {},
   "outputs": [],
   "source": [
    "true_classes=test_data.classes\n",
    "class_labels=list(test_data.class_indices.keys())"
   ]
  },
  {
   "cell_type": "code",
   "execution_count": null,
   "metadata": {},
   "outputs": [],
   "source": [
    "from sklearn.metrics import classification_report,plot_confusion_matrix\n",
    "report=classification_report(true_classes,predicted_classes,target_names=class_labels)\n",
    "print(report)"
   ]
  },
  {
   "cell_type": "code",
   "execution_count": null,
   "metadata": {},
   "outputs": [],
   "source": [
    "confusion_matrix(predicted_classes,true_classes)"
   ]
  }
 ],
 "metadata": {
  "kernelspec": {
   "display_name": "Python 3",
   "language": "python",
   "name": "python3"
  },
  "language_info": {
   "codemirror_mode": {
    "name": "ipython",
    "version": 3
   },
   "file_extension": ".py",
   "mimetype": "text/x-python",
   "name": "python",
   "nbconvert_exporter": "python",
   "pygments_lexer": "ipython3",
   "version": "3.7.4"
  }
 },
 "nbformat": 4,
 "nbformat_minor": 2
}
